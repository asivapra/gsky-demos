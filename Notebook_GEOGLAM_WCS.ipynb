{
 "cells": [
  {
   "cell_type": "markdown",
   "metadata": {},
   "source": [
    "![](http://nci.org.au/wp-content/themes/nci/img/img-logo-large.png)\n",
    "\n",
    "-------\n",
    "\n",
    "# Web Map Service (WCS)\n",
    "## Requesting GEOGLAM data subsets\n",
    "\n",
    "RAPP Map is the spatial data platform for the Rangeland and Pasture Productivity activity which is part of the Group on Earth Observations Global Agricultural Monitoring (GEOGLAM) initiative. This online tool gives access to information about the state and condition of global rangelands. It provides time-series data on the vegetation and environmental conditions, allowing national and regional tracking of the resources which sustains livestock production. It has been developed, and is currently hosted, by Data61 with the assistance of IT resources and services from the National Computational Infrastructure (NCI), and the AusCover facility. RAPP Map is supported by CSIRO and through funding from the Australian Government's National Landcare Programme.\n",
    "\n",
    "For more information on the GEOGLAM RAPP Map, please visit https://map.geo-rapp.org/about.html\n",
    "\n",
    "### In this notebook:\n",
    "\n",
    "#### How to use the Open Geospatial Consortium (OGC) Web Coverage Service (WCS) protocol through the GEOGLAM RAPP Map\n",
    "\n",
    "- <a href='#getcoverage'>Constructing WCS GetCoverage Requests</a>\n",
    "\n",
    "\n",
    "\n",
    "#### The following material uses Geoscience Australia's Earth Observation Collection. Additional information about this data collection can be found [here](https://geonetwork.nci.org.au/geonetwork/srv/eng/catalog.search#/metadata/3a2cd509-0e82-4381-98c7-522756da533b).\n",
    "\n",
    "---------\n",
    "\n",
    "<br>\n"
   ]
  },
  {
   "cell_type": "markdown",
   "metadata": {},
   "source": [
    "<a id='wcs'></a> \n",
    "## Constructing WCS Requests\n",
    "\n",
    "GEOGLAM Web Coverage Service (WCS) requests allow users to request data or subsets of data in either NetCDF3 or GeoTIFF format. The request is make by constructing a **GetCoverage** URL, which is then used within a web browser to communicate to the GSKY Data Server. "
   ]
  },
  {
   "cell_type": "markdown",
   "metadata": {},
   "source": [
    "<a id='getcoverage'></a> \n",
    "#### For example, the GetCoverage request takes the following form:"
   ]
  },
  {
   "cell_type": "markdown",
   "metadata": {},
   "source": [
    "> `http://130.56.242.16/ows?`<FONT COLOR=\"red\">service</FONT>=WCS&<FONT COLOR=\"red\">version</FONT>=1.0.0&<FONT COLOR=\"red\">request</FONT>=GetCoverage&<FONT COLOR=\"red\">coverage</FONT>=<FONT \n",
    "COLOR=\"#00cc99\">value</FONT>&<br/><FONT COLOR=\"red\">format</FONT>=<FONT COLOR=\"#00cc99\">value</FONT>&<FONT COLOR=\"blue\">bbox</FONT>=<FONT COLOR=\"#00cc99\">value</FONT>&<FONT COLOR=\"blue\">time</FONT>=<FONT COLOR=\"#00cc99\">value</FONT>&<FONT COLOR=\"blue\">crs</FONT>=<FONT COLOR=\"#00cc99\">value</FONT>value\n",
    "\n",
    "where <FONT COLOR=\"red\">red</FONT> indicates required fields, <FONT COLOR=\"blue\">blue</FONT> are optional, and <FONT COLOR=\"00cc99\">green</FONT> are where inputs values relevant to the dataset and user request need to be defined. "
   ]
  },
  {
   "cell_type": "markdown",
   "metadata": {},
   "source": [
    "**GetCoverage parameters:**\n",
    "\n",
    "|Parameter    |  Required/Optional  |  Input                                                            |\n",
    "|-------------|:-------------------:|------------------                                                 |\n",
    "|service      |     Required        |      WCS                                                          |\n",
    "|version      |     Required        |  `1.0.0`                                                          |\n",
    "|request      |     Required        | `GetCoverage`                                                     |\n",
    "|coverage     |     Required        | `<variable>`                                                      |\n",
    "|format       |     Required        | `GeoTIFF  `, `GeoTIFF_Float  `, `NetCDF3  `                       |\n",
    "|bbox`*`         |     Required/Optional        | `<xmin,ymin,xmax,ymax>`                                           |\n",
    "|time`*`         |     Required/Optional        | `<time_value>`                                                    |\n",
    "|srs, or crs  |     Optional        | `<srs_value>` or `<crs_value>`                                    |\n",
    "\n",
    "`*`For large files and/or files with a time dimension, these might be necessary. If `bbox` is not defined the entire spatial domain will be returned (if server limits allow) and if `time` is not specified, either the first or sometimes last timestep is returned. "
   ]
  },
  {
   "cell_type": "markdown",
   "metadata": {},
   "source": [
    "### WCS GetCapabilities and DescribeCoverage"
   ]
  },
  {
   "cell_type": "markdown",
   "metadata": {},
   "source": [
    "#### Where do you find valid input values?\n",
    "\n",
    "In order to contruct the **GetCoverage** URL, a **GetCapabilities** request can be made to the server. This requests returns a xml describing the available GEOGLAM WCS parameters (metadata, services, and data). Additional metadata information can also be requested about a specific coverage layer by making a **DescribeCoverage** request. \n",
    "\n",
    "**GetCapabilities example:**\n",
    "\n",
    "> [http://130.56.242.16/ows?service=WCS&version=1.0.0&request=GetCapabilities<br/>](http://130.56.242.16/ows?service=WCS&version=1.0.0&request=GetCapabilities)\n",
    "\n",
    "<img src=\"./images/geoglam_wcs1.png\" width=\"550\">\n",
    "\n",
    "\n",
    "\n",
    "**DescribeCoverage example:**\n",
    "> [http://130.56.242.16/ows?service=WCS&version=1.0.0&coverage=global:c6:frac_cover&request=DescribeCoverage<br/>](http://130.56.242.16/ows?service=WCS&version=1.0.0&coverage=global:c6:monthly_frac_cover&request=DescribeCoverage)\n",
    "\n",
    "<img src=\"./images/geoglam_wcs2.png\" width=\"550\">\n",
    "\n",
    "<br>\n",
    "<br>\n",
    "<br>"
   ]
  },
  {
   "cell_type": "markdown",
   "metadata": {},
   "source": [
    "### GetCoverage Request\n",
    "Using the information returned from the GetCapabilities and DescribeCoverage requests, a GetMap URL can be constructed and then entered into the address bar of any web browser.  \n",
    "\n",
    "#### Example GetCoverage (NetCDF format):\n",
    "\n",
    "> [http://gsky.nci.org.au/ows?<br/>\n",
    "service=WCS&<br/>\n",
    "coverage=global:c6:monthly_frac_cover&<br/>\n",
    "service=WCS&<br/>\n",
    "crs=EPSG:4326&<br/>\n",
    "format=NetCDF&<br/>\n",
    "request=GetCoverage&<br/>\n",
    "height=256&<br/>\n",
    "width=256&<br/>\n",
    "version=1.0.0&<br/>\n",
    "bbox=-180,-90,180,-90&<br/>\n",
    "time=2018-03-01T00:00:00.000Z<br/>\n",
    "](http://130.56.242.16/ows?SERVICE=WCS&service=WCS&crs=EPSG:4326&format=NetCDF&request=GetCoverage&height=500&width=1000&version=1.0.0&bbox=-179,-80,180,80&coverage=global:c6:monthly_frac_cover&time=2018-03-01T00:00:00.000Z)\n",
    "\n",
    "\n",
    "#### Example GetCoverage (GeoTIFF format):\n",
    "\n",
    "> [http://gsky.nci.org.au/ows?<br/>\n",
    "service=WCS&<br/>\n",
    "coverage=global:c6:monthly_frac_cover&<br/>\n",
    "service=WCS&<br/>\n",
    "crs=EPSG:4326&<br/>\n",
    "format=GeoTIFF&<br/>\n",
    "request=GetCoverage&<br/>\n",
    "height=256&<br/>\n",
    "width=256&<br/>\n",
    "version=1.0.0&<br/>\n",
    "bbox=-180,-90,180,-90&<br/>\n",
    "time=2018-03-01T00:00:00.000Z<br/>\n",
    "](http://130.56.242.16/ows?SERVICE=WCS&service=WCS&crs=EPSG:4326&format=GeoTIFF&request=GetCoverage&height=500&width=1000&version=1.0.0&bbox=-179,-80,180,80&coverage=global:c6:monthly_frac_cover&time=2018-03-01T00:00:00.000Z)\n",
    "\n",
    "\n",
    "<br></br>"
   ]
  },
  {
   "cell_type": "markdown",
   "metadata": {},
   "source": [
    "<br>\n",
    "<br>\n",
    "<br>\n",
    "\n",
    "\n",
    "--------\n",
    "**For more information on the OGC WCS standard specifications:** <br/>\n",
    "http://www.opengeospatial.org/standards/wcs <br/>\n",
    "\n"
   ]
  }
 ],
 "metadata": {
  "anaconda-cloud": {},
  "kernelspec": {
   "display_name": "Python 2",
   "language": "python",
   "name": "python2"
  },
  "language_info": {
   "codemirror_mode": {
    "name": "ipython",
    "version": 2
   },
   "file_extension": ".py",
   "mimetype": "text/x-python",
   "name": "python",
   "nbconvert_exporter": "python",
   "pygments_lexer": "ipython2",
   "version": "2.7.15"
  }
 },
 "nbformat": 4,
 "nbformat_minor": 1
}
