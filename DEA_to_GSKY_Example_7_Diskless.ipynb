{
 "cells": [
  {
   "cell_type": "markdown",
   "metadata": {},
   "source": [
    "# [Snow monitoring with Landsat](https://docs.dea.ga.gov.au/notebooks/05_Temporal_analysis/SnowMonitoringUsingLandsat.html)\n",
    "\n",
    "## What does this notebook do?\n",
    "\n",
    "This notebook gets the Landsat 8 data that has 6 spectral bands including visible (red,green,blue) and invisible (nir, swir1, swir2) bands. These bands are plotted individually and combined. Also, the NDVI and NDWI are calculated and plotted from these bands.\n",
    "\n",
    "Since the production GSKY server cannot return all bands together, a development server version is used. It means this notebook must be run from within the NCI network."
   ]
  },
  {
   "cell_type": "markdown",
   "metadata": {},
   "source": [
    "###### Specifics\n",
    "\n",
    "- Converting a DEA notebook example to use GSKY instaed of datacube.\n",
    "\n",
    "- Uses WCS to get an area from a specified layer/date/bbox/time, and differs from the DEA example.\n",
    "\n",
    "- Only one time slice can be used in WCS. \n",
    "    - You can choose from all available times in the layer.\n",
    "\n",
    "- If you can determine a valid BBox for a date (Tip: Use TerriaMap) it can be manually typed in.\n",
    "\n",
    "- The DEA example, using datacube, can get the data for a time range. It is not possible in GSKY.\n",
    "\n",
    "**Author:** Arapaut V. Sivaprasad\n",
    "\n",
    "**Date:** 23 October, 2019"
   ]
  },
  {
   "cell_type": "code",
   "execution_count": null,
   "metadata": {},
   "outputs": [],
   "source": [
    "##########################################################\n",
    "# Author: Arapaut V. Sivaprasad.                         #\n",
    "# Dates: Created: 22/10/2019; Last Modified: 14/01/2020  #\n",
    "##########################################################\n",
    "\n",
    "from owslib.wcs import WebCoverageService\n",
    "from netCDF4 import Dataset\n",
    "import matplotlib.pylab as plt\n",
    "%matplotlib inline\n",
    "import numpy as np\n",
    "import logging, sys\n",
    "logging.disable(sys.maxsize)\n"
   ]
  },
  {
   "cell_type": "markdown",
   "metadata": {},
   "source": [
    "### Specify the GSKY capabilities end URL below.  \n",
    "\n",
    "Normally there are several GSKY layers in the dataset. You must select one layer to view the data. By uncommenting its code you can display all available layers."
   ]
  },
  {
   "cell_type": "code",
   "execution_count": null,
   "metadata": {},
   "outputs": [],
   "source": [
    "# Specify the GSKY production URL here. The layer is hard coded\n",
    "gsky_url = 'https://gsky.nci.org.au/ows/dea'\n",
    "layer = \"landsat8_nbar_16day\"\n",
    "wcs = WebCoverageService(gsky_url, version='1.0.0')\n",
    "\n",
    "# Uncomment below to see all layers.\n",
    "#for layer in list(wcs.contents):\n",
    "#    print (\"Layer Name:\", layer)\n",
    "#    print (\"Title:\", wcs[layer].title, '\\n')"
   ]
  },
  {
   "cell_type": "markdown",
   "metadata": {},
   "source": [
    "### A time slice must be specified to show the layer. \n",
    "\n",
    "To help identify a time slice, specify the start and end values as m,n below, which will show the time slices in that range. Then specify the time slice as 't = i', where i = 0 to n_times-1"
   ]
  },
  {
   "cell_type": "code",
   "execution_count": null,
   "metadata": {},
   "outputs": [],
   "source": [
    "# To display the available time slices in any range, specify the start and end values as m,n below\n",
    "time = wcs[layer].timepositions\n",
    "n_times = len(time)\n",
    "m = 0\n",
    "n = n_times-1\n",
    "#print (\"Total of\", n_times,'timepositions:\\n\\n', time[m:n])\n",
    "\n",
    "# Unlike in the case of datacube, where a time range can be specified, GSKY requires a specific date.\n",
    "# This specific time slice is specified below. \n",
    "t = 1\n",
    "wcs[layer].timepositions[t]"
   ]
  },
  {
   "cell_type": "markdown",
   "metadata": {},
   "source": [
    "### Find the BBox\n",
    "\n",
    "The Australian continent is divided into approximately 1x1 degree tiles, from -22 to +27 longitude degrees on either side of a line through the centre of Australia.\n",
    "\n",
    "The ID and BBox for each tile will be generated in the next box. Choose a tile by its ID to display the layer."
   ]
  },
  {
   "cell_type": "code",
   "execution_count": null,
   "metadata": {},
   "outputs": [],
   "source": [
    "# Specify a 2D array of BBoxes as west, north, east, south in EPSG:4326 149.05, 149.17 -35.25, -35.35\n",
    "w = 2;\n",
    "BBoxes = [0 for x in range(w)] \n",
    "BBoxes[0] = ['130.00,-27.00,131.00,-29.00'] # Sydney 2013-04-04\n",
    "BBoxes[1] = ['148.62,-35.14,149.32,-36.58'] # Canberra 2013-04-04\n",
    "\n",
    "# A valid BBox with data will be automatically chosen for that date.\n",
    "bbox = BBoxes[t]\n",
    "bbox"
   ]
  },
  {
   "cell_type": "code",
   "execution_count": null,
   "metadata": {},
   "outputs": [],
   "source": [
    "# The call to GSKY server requires the bbox to be a tuple\n",
    "x = float(bbox[0][0:6])\n",
    "y = float(bbox[0][7:13])\n",
    "X = float(bbox[0][14:20])\n",
    "Y = float(bbox[0][21:27])\n",
    "X = float('%.2f'%(x + ((abs(Y - y) / 220) * 337)))\n",
    "bbox = (x,y,X,Y)\n",
    "bbox"
   ]
  },
  {
   "cell_type": "markdown",
   "metadata": {},
   "source": [
    "### Get and plot the True Color"
   ]
  },
  {
   "cell_type": "code",
   "execution_count": null,
   "metadata": {},
   "outputs": [],
   "source": [
    "# Construct a WCS call to GSKY and send it.\n",
    "output = wcs.getCoverage(identifier=layer, Styles='tc',\n",
    "                         time=[wcs[layer].timepositions[t]],\n",
    "                         bbox=bbox,format='NetCDF',\n",
    "                         crs='EPSG:4326', width=256, height=256)\n",
    "# Read the output into diskless NetCDF\n",
    "nc = Dataset('dtemp.nc','r',diskless=True,persist=False, memory=output.read())\n",
    "print(output.geturl())"
   ]
  },
  {
   "cell_type": "code",
   "execution_count": null,
   "metadata": {},
   "outputs": [],
   "source": [
    "# Stack the three bands together and cast it as float32\n",
    "# In the line below the 'axis=2' ensures that the data shape is 256,256,3\n",
    "r = nc.variables['Band1'][:]\n",
    "g = nc.variables['Band2'][:]\n",
    "b = nc.variables['Band3'][:]\n",
    "\n",
    "# rgb = np.stack([nc.variables['Band%d' % (b+1)] for b in range(3)], axis=2).astype(np.float32)\n",
    "rgb = np.stack([r, g, b], axis=2).astype(np.float32)\n",
    "\n",
    "# Convert all values into a range from 0 to 1. This is important.\n",
    "rgb /= rgb.max()\n",
    "\n",
    "# Uncomment next line to see the data values.\n",
    "# print(rgb)\n",
    "\n",
    "# Plot it\n",
    "imgplot = plt.imshow(rgb)\n",
    "plt.show()"
   ]
  },
  {
   "cell_type": "markdown",
   "metadata": {},
   "source": [
    "### Get and plot the False Color"
   ]
  },
  {
   "cell_type": "code",
   "execution_count": null,
   "metadata": {},
   "outputs": [],
   "source": [
    "# Construct a WCS call to GSKY and send it.\n",
    "output = wcs.getCoverage(identifier=layer, Styles='fc',\n",
    "                         time=[wcs[layer].timepositions[t]],\n",
    "                         bbox=bbox,format='NetCDF',\n",
    "                         crs='EPSG:4326', width=256, height=256)\n",
    "# Read the output into diskless NetCDF\n",
    "nc = Dataset('dtemp.nc','r',diskless=True,persist=False, memory=output.read())\n",
    "print(output.geturl())"
   ]
  },
  {
   "cell_type": "code",
   "execution_count": null,
   "metadata": {
    "scrolled": true
   },
   "outputs": [],
   "source": [
    "# Stack the three bands together and cast it as float32\n",
    "# In the line below the 'axis=2' ensures that the data shape is 256,256,3\n",
    "s1 = nc.variables['Band1'][:]\n",
    "n = nc.variables['Band2'][:]\n",
    "g = nc.variables['Band3'][:]\n",
    "\n",
    "# rgb = np.stack([nc.variables['Band%d' % (b+1)] for b in range(3)], axis=2).astype(np.float32)\n",
    "rgb = np.stack([s1, n, g], axis=2).astype(np.float32)\n",
    "\n",
    "# Convert all values into a range from 0 to 1. This is important.\n",
    "rgb /= rgb.max()\n",
    "\n",
    "# Uncomment next line to see the data values.\n",
    "# print(rgb)\n",
    "\n",
    "# Plot it\n",
    "imgplot = plt.imshow(rgb)\n",
    "plt.show()"
   ]
  },
  {
   "cell_type": "markdown",
   "metadata": {},
   "source": [
    "### Compute Normalised Difference Water Index (NDWI)\n",
    "\n",
    "The NDWI index is most appropriate for water body mapping. The water body has strong absorbability and low radiation in the range from visible to infrared wavelengths. The index uses the green and Near Infra-red bands of remote sensing images based on this phenomenon."
   ]
  },
  {
   "cell_type": "code",
   "execution_count": null,
   "metadata": {},
   "outputs": [],
   "source": [
    "# Compute NDWI using the formula (green - nir) / (green + nir). This will calculate \n",
    "# NDVI for every time-step in the dataset:\n",
    "ds_ndwi = (g - n) / (g + n)\n",
    "plt.imshow(ds_ndwi, cmap='Greens', interpolation = 'sinc', vmin = 0, vmax = 1)\n",
    "plt.title('NDVI')\n",
    "plt.show"
   ]
  },
  {
   "cell_type": "markdown",
   "metadata": {},
   "source": [
    "`Copyright` &copy; `2019 by National Computational Infrastructure (NCI).`"
   ]
  }
 ],
 "metadata": {
  "kernelspec": {
   "display_name": "Python 3",
   "language": "python",
   "name": "python3"
  },
  "language_info": {
   "codemirror_mode": {
    "name": "ipython",
    "version": 3
   },
   "file_extension": ".py",
   "mimetype": "text/x-python",
   "name": "python",
   "nbconvert_exporter": "python",
   "pygments_lexer": "ipython3",
   "version": "3.7.4"
  }
 },
 "nbformat": 4,
 "nbformat_minor": 2
}
