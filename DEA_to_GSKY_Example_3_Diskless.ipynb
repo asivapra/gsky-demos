{
 "cells": [
  {
   "cell_type": "markdown",
   "metadata": {},
   "source": [
    "## Using GSKY to replace datacube\n",
    "\n",
    "### This notebook will demonstrate the use of GSKY to retrieve and display landsat data.\n",
    "\n",
    "##### Example 3\n",
    "\n",
    "The requested bounding box is plotted as in example 2. Then, all invalid pixels (NaN) are identified and plotted as a separate map.\n",
    "\n",
    "Instead of writing the GSKY output into a NetCDF file and then reading it back into Xarray, this example uses the **diskless** NetCDF that eliminates the disk I/O. Though it is quite unnecessary to do so in a single datafile situation, it is nevertheless given here to demonstrate the capability.\n",
    "\n",
    "The data is in **netCDF4.\\_netCDF4.Dataset** format. A drawback of plotting the values directly from it is that only one band per image can be plotted (cf. three bands together when using Xarray). Converting the in-memory data into Xarray Dataset does not work."
   ]
  },
  {
   "cell_type": "markdown",
   "metadata": {},
   "source": [
    "###### Specifics\n",
    "\n",
    "- Converting a DEA notebook example to use GSKY instaed of datacube.\n",
    "\n",
    "- Uses WCS to get an area from a specified layer/date/bbox/time, and differs from the DEA example.\n",
    "    -- where an area around a single point is calculated (\"LoadingCloudfreeSentinel2andLandsat.ipynb\").\n",
    "\n",
    "- This example can only use one sensor (\"ls8\") instead of three sensors as DEA has used.\n",
    "\n",
    "- The required area is specified a tile from a list that shows the bounding boxes. \n",
    "\n",
    "- Only one time slice can be used in WCS. \n",
    "    - You can choose from all available times in the layer.\n",
    "\n",
    "- If you can determine a valid BBox for a date (Tip: Use TerriaMap) it can be manually typed in.\n",
    "\n",
    "- The DEA example, using datacube, can get the data for a time range. It is not possible in GSKY.\n",
    "\n",
    "**Author:** Arapaut V. Sivaprasad\n",
    "\n",
    "**Date:** 18 December, 2019"
   ]
  },
  {
   "cell_type": "markdown",
   "metadata": {},
   "source": [
    "### How to use\n",
    "\n",
    "Use this notebook to display a GSKY layer corresponding to a time slice and bounding box (BBox). Instead of manually typing in the BBox, you can select a tile by its ID (e.g. 8_-31).\n",
    "\n",
    "- Specify the name of layer in cell 2\n",
    "    - layer = \"landsat8_nbar_16day\"\n",
    "    - If necessary, uncomment its code block to see all available layers.\n",
    "\n",
    "- Identify the available time positions (dates of data acquisitions) in cell 3\n",
    "    - Give m,n values to display the range of dates (from 0 to n_times-1)\n",
    "    - Give t=i to say which date to use, where i = 0 to n_times-1.\n",
    "\n",
    "- Identify the tile ID in cell 4\n",
    "\n",
    "- Specify the tile ID in cell 5\n",
    "    - If you know another BBox with data (Tip: use TerriaMap to find) then type it in as,\n",
    "        - bbox = (130.00, -27.00, 131.00, -29.00)\n",
    "\n",
    "- Execute all cells from top to bottom."
   ]
  },
  {
   "cell_type": "code",
   "execution_count": 1,
   "metadata": {},
   "outputs": [],
   "source": [
    "##########################################################\n",
    "# Author: Arapaut V. Sivaprasad.                         #\n",
    "# Dates: Created: 18/10/2019; Last Modified: 18/12/2019  #\n",
    "##########################################################\n",
    "# Import all the required modules\n",
    "\n",
    "from owslib.wcs import WebCoverageService\n",
    "from netCDF4 import Dataset\n",
    "import matplotlib.pylab as plt\n",
    "%matplotlib inline\n",
    "import numpy as np"
   ]
  },
  {
   "cell_type": "markdown",
   "metadata": {},
   "source": [
    "#### Specify the GSKY capabilities end URL is below. It must be one that you can access. \n",
    "\n",
    "There are several GSKY layers in the dataset. You must select one layer to view the data. By uncommenting its code you can display all available layers. Not all layers will have data for all time slices. A safe bet to see data is by choosing the layer, 'landsat8_nbar_16day'."
   ]
  },
  {
   "cell_type": "code",
   "execution_count": 2,
   "metadata": {},
   "outputs": [],
   "source": [
    "# Specify the GSKY production URL here. The layer is hard coded\n",
    "gsky_url = 'https://gsky.nci.org.au/ows/dea'\n",
    "layer = \"landsat8_nbar_16day\"\n",
    "wcs = WebCoverageService(gsky_url, version='1.0.0')\n",
    "\n",
    "# Uncomment below to see all layers.\n",
    "#for layer in list(wcs.contents):\n",
    "#    print (\"Layer Name:\", layer)\n",
    "#    print (\"Title:\", wcs[layer].title, '\\n')"
   ]
  },
  {
   "cell_type": "markdown",
   "metadata": {},
   "source": [
    "#### A time slice must be specified to show the layer. \n",
    "\n",
    "To help identify a time slice, specify the start and end values as m,n below, which will show the time slices in that range. Then specify the time slice as 't = i', where i = 0 to n_times-1"
   ]
  },
  {
   "cell_type": "code",
   "execution_count": 3,
   "metadata": {},
   "outputs": [],
   "source": [
    "# To display the available time slices in any range, specify the start and end values as m,n below\n",
    "time = wcs[layer].timepositions\n",
    "n_times = len(time)\n",
    "m = 0\n",
    "n = n_times-1\n",
    "\n",
    "# The time slice whose data is to be displayed is specified below. \n",
    "t = 0\n",
    "\n",
    "# Uncomment below to see all available times.\n",
    "#print (\"Total of\", n_times,'timepositions:\\n\\n', time[m:n])\n"
   ]
  },
  {
   "cell_type": "markdown",
   "metadata": {},
   "source": [
    "#### The Australian continent is divided into approximately 1x1 degree tiles, from -22 to +27 longitude degrees, and -8 to -36 latitude degrees on either side of a line through the centre of Australia. \n",
    "\n",
    "The ID and BBox for each tile will be generated in the next box. Choose a tile by its ID to display the layer.\n"
   ]
  },
  {
   "cell_type": "code",
   "execution_count": 6,
   "metadata": {},
   "outputs": [],
   "source": [
    "tiles_list = {}\n",
    "with open(\"tiles_bboxes_out.txt\") as f:\n",
    "    for line in f:\n",
    "        (key, val) = line.split()\n",
    "        tiles_list[str(key)] = val\n",
    "\n",
    "# Uncomment below to see all tiles and ther BBoxes\n",
    "#tiles_list"
   ]
  },
  {
   "cell_type": "markdown",
   "metadata": {},
   "source": [
    "#### You must select a tile to get its BBox, after verifying that the tile has some data for the chosen layer and time.\n",
    "\n",
    "Give a single tile as **\" tiles = \\['-11_-38'\\]**. The BBox will be taken from this tile and scaled to fit the plot. The final output will be slightly larger than the original BBox."
   ]
  },
  {
   "cell_type": "code",
   "execution_count": 7,
   "metadata": {},
   "outputs": [
    {
     "data": {
      "text/plain": [
       "(133.03, -27.64, 134.42, -28.54)"
      ]
     },
     "execution_count": 7,
     "metadata": {},
     "output_type": "execute_result"
    }
   ],
   "source": [
    "# If you know a BBox containing data (Tip: use TerriaMap to find out) then type it in below.\n",
    "#bbox = ['130.00,-27.00,131.00,-29.00']\n",
    "\n",
    "tiles = ['1_-31']\n",
    "bbox = [tiles_list[tiles[0]]]\n",
    "x = float(bbox[0][0:6])\n",
    "y = float(bbox[0][7:13])\n",
    "X = float(bbox[0][14:20])\n",
    "Y = float(bbox[0][21:27])\n",
    "X = float('%.2f'%(x + ((abs(Y - y) / 220) * 340)))\n",
    "bbox = (x,y,X,Y)\n",
    "bbox"
   ]
  },
  {
   "cell_type": "markdown",
   "metadata": {},
   "source": [
    "#### A call is made to the GSKY server to get the data."
   ]
  },
  {
   "cell_type": "code",
   "execution_count": 9,
   "metadata": {
    "scrolled": true
   },
   "outputs": [
    {
     "name": "stdout",
     "output_type": "stream",
     "text": [
      "http://gsky.nci.org.au/ows/dea?version=1.0.0&request=GetCoverage&service=WCS&Coverage=landsat8_nbar_16day&BBox=133.03%2C-27.64%2C134.42%2C-28.54&time=2013-03-19T00%3A00%3A00.000Z&crs=EPSG%3A4326&format=NetCDF&width=256&height=256&Styles=fc\n"
     ]
    }
   ],
   "source": [
    "# Construct the URL for a WCS call and send it to the GSKY server.\n",
    "# Style can be False Color (fc) or True Color (tc)\n",
    "# This NB uses only NetCDF and EPSG:4326. Hence, do not change these.\n",
    "# If any error, the displayed URL can be opened in a browser to see the actual error message.\n",
    "output = wcs.getCoverage(identifier=layer, Styles='fc',\n",
    "                         time=[wcs[layer].timepositions[t]],\n",
    "                         bbox=bbox,format='NetCDF',\n",
    "                         crs='EPSG:4326', width=256, height=256)\n",
    "\n",
    "# Read the output into diskless NetCDF\n",
    "nc = Dataset('dtemp.nc','r',diskless=True,persist=False, memory=output.read())\n",
    "print(output.geturl())"
   ]
  },
  {
   "cell_type": "markdown",
   "metadata": {},
   "source": [
    "### Identify valid pixels\n",
    "\n",
    "Here we choose a single band from the Landsat data, and test whether each pixel contains valid values using the function np.isfinite. This will give us a dataset that contains False for any invalid pixel, and True for any valid observation.\n",
    "\n",
    "We will later use this to normalise our counts of snow to account for missing data."
   ]
  },
  {
   "cell_type": "code",
   "execution_count": 23,
   "metadata": {},
   "outputs": [
    {
     "data": {
      "text/plain": [
       "<function matplotlib.pyplot.show(*args, **kw)>"
      ]
     },
     "execution_count": 23,
     "metadata": {},
     "output_type": "execute_result"
    },
    {
     "data": {
      "image/png": "[encoded data removed]",
      "text/plain": [
       "<Figure size 432x288 with 1 Axes>"
      ]
     },
     "metadata": {
      "needs_background": "light"
     },
     "output_type": "display_data"
    }
   ],
   "source": [
    "# Identify which pixels contain valid data in the Landsat dataset\n",
    "band1 = nc.variables['Band1'][:]\n",
    "valid_ds = np.isfinite(band1)\n",
    "\n",
    "# Plot one sample timestep from the `valid_ds` dataset. White dots#### __END_____OF_____NOTEBOOK\n",
    "*** below represents\n",
    "# invalid pixels, due to either issues with terrain shadow on steep mountains,\n",
    "# cloud cover, snow accidently mapped as cloud, or gaps in Landsat overpasses.\n",
    "plt.imshow(valid_ds, cmap='Blues', interpolation = 'sinc', vmin = 0, vmax = 1)\n",
    "plt.title('Valid Pixels')\n",
    "plt.show"
   ]
  },
  {
   "cell_type": "markdown",
   "metadata": {},
   "source": [
    "#### __END_____OF_____NOTEBOOK\n",
    "***"
   ]
  }
 ],
 "metadata": {
  "kernelspec": {
   "display_name": "Python 3",
   "language": "python",
   "name": "python3"
  },
  "language_info": {
   "codemirror_mode": {
    "name": "ipython",
    "version": 3
   },
   "file_extension": ".py",
   "mimetype": "text/x-python",
   "name": "python",
   "nbconvert_exporter": "python",
   "pygments_lexer": "ipython3",
   "version": "3.7.4"
  }
 },
 "nbformat": 4,
 "nbformat_minor": 2
}
