{
 "cells": [
  {
   "cell_type": "markdown",
   "metadata": {},
   "source": [
    "# [Snow monitoring with Landsat](https://docs.dea.ga.gov.au/notebooks/05_Temporal_analysis/SnowMonitoringUsingLandsat.html)\n",
    "\n",
    "## What does this notebook do?\n",
    "\n",
    "This notebook gets the Landsat 8 data that has 6 spectral bands including visible (red,green,blue) and invisible (nir, swir1, swir2) bands. These bands are plotted individually and combined. Also, the NDVI and NDWI are calculated and plotted from these bands.\n",
    "\n",
    "Since the production GSKY server can only return three bands at a time, two separate calls to GSKY are made to get all six bands."
   ]
  },
  {
   "cell_type": "markdown",
   "metadata": {},
   "source": [
    "###### Specifics\n",
    "\n",
    "- Converting a DEA notebook example to use GSKY instead of datacube.\n",
    "\n",
    "- Uses WCS to get an area from a specified layer/date/bbox/time, and differs from the DEA example.\n",
    "\n",
    "- Only one time slice can be used in WCS. \n",
    "    - You can choose from all available times in the layer.\n",
    "\n",
    "- If you can determine a valid BBox for a date (Tip: Use TerriaMap) it can be manually typed in.\n",
    "\n",
    "- The DEA example, using datacube, can get the data for a time range. It is not possible in GSKY.\n",
    "\n",
    "**Author:** Arapaut V. Sivaprasad\n",
    "\n",
    "**Date:** 25 October, 2019"
   ]
  },
  {
   "cell_type": "code",
   "execution_count": 1,
   "metadata": {},
   "outputs": [],
   "source": [
    "##########################################################\n",
    "# Author: Arapaut V. Sivaprasad.                         #\n",
    "# Dates: Created: 22/10/2019; Last Modified: 15/01/2020  #\n",
    "##########################################################\n",
    "\n",
    "from owslib.wcs import WebCoverageService\n",
    "import matplotlib.pylab as plt\n",
    "%matplotlib inline\n",
    "from netCDF4 import Dataset\n",
    "import numpy as np\n",
    "import logging, sys\n",
    "logging.disable(sys.maxsize)\n"
   ]
  },
  {
   "cell_type": "markdown",
   "metadata": {},
   "source": [
    "### The WCS service on the GSKY server\n",
    "\n",
    "The GSKY server is publicly available and runs on one of NCI's HPC nodes. To get the data a regular HTTPS call is made with the required parameters as a GET command.\n",
    "\n",
    "The WCS (Web Coverage Service) is a very efficient way to get data spread across several hundred to thousands of files and directories. By specifying an area, date and data layer name the WCS service retrieves all the required data and combines it into a single NetCDF (or GeoTIFF) output. In this example we will use the NetCDF format to get the data and then plol it and/or analyse the data to pick up other features."
   ]
  },
  {
   "cell_type": "code",
   "execution_count": 2,
   "metadata": {},
   "outputs": [],
   "source": [
    "# Specify the GSKY production URL here. The layer is hard coded\n",
    "gsky_url = 'https://gsky.nci.org.au/ows/dea'\n",
    "wcs = WebCoverageService(gsky_url, version='1.0.0')\n",
    "layer = \"landsat8_nbar_16day\"\n",
    "\n",
    "# Uncomment below to see all layers.\n",
    "\n",
    "#for layer in list(wcs.contents):\n",
    "#    print (\"Layer Name:\", layer)\n",
    "#    print (\"Title:\", wcs[layer].title, '\\n')"
   ]
  },
  {
   "cell_type": "markdown",
   "metadata": {},
   "source": [
    "### Get a time stamp\n",
    "\n",
    "The data is stored as separate files with a time stamp, or time position, in each. This time stamp correspond to the data acqusition date and is used to retrieve the data for a particular area. Only one time stamp can be specified in one WCS query."
   ]
  },
  {
   "cell_type": "code",
   "execution_count": 3,
   "metadata": {},
   "outputs": [
    {
     "data": {
      "text/plain": [
       "'2013-04-04T00:00:00.000Z'"
      ]
     },
     "execution_count": 3,
     "metadata": {},
     "output_type": "execute_result"
    }
   ],
   "source": [
    "# To display the available time slices in any range, specify the start and end values as m,n below\n",
    "time = wcs[layer].timepositions\n",
    "n_times = len(time)\n",
    "m = 0\n",
    "n = n_times-1\n",
    "#print (\"Total of\", n_times,'timepositions:\\n\\n', time[m:n])\n",
    "\n",
    "# Unlike in the case of datacube, where a time range can be specified, GSKY requires a specific date.\n",
    "# This specific time slice is specified below. \n",
    "t = 1\n",
    "wcs[layer].timepositions[t]"
   ]
  },
  {
   "cell_type": "markdown",
   "metadata": {},
   "source": [
    "### Specify a bounding box\n",
    "\n",
    "To specify an area to analyse, you must give its bounding box coordinates (in EPSG:4326). This can be done either by hard coding it as e.g. *BBoxes[0] = ['148.62,-35.14,149.32,-36.58']* or by giving a tile ID(s) to calculate the BBox. Only one BBox can be specified in a WCS query.\n",
    "\n",
    "The tiles are approximately 1x1 degree areas the Australian continent is divided into. A list of these tiles and their bounding boxes can be seen by uncommenting its code below. For instance, tiles '15_-40' and '15_-41' together cover all of ACT plus some of the surroundings. Sydney is covered by '17_-39'. \n",
    "\n",
    "Click [here](http://cmi.ga.gov.au/sites/default/files/2017-12/DEA%20Tiles_1.pdf) to view the tile map.\n"
   ]
  },
  {
   "cell_type": "code",
   "execution_count": 4,
   "metadata": {},
   "outputs": [],
   "source": [
    "tiles_list = {}\n",
    "with open(\"Scripts/tiles_bboxes_out.txt\") as f:\n",
    "    for line in f:\n",
    "        (key, val) = line.split()\n",
    "        tiles_list[str(key)] = val\n",
    "\n",
    "# Uncomment below to see all tiles and ther BBoxes\n",
    "#tiles_list"
   ]
  },
  {
   "cell_type": "markdown",
   "metadata": {},
   "source": [
    "#### Select a tile(s)\n",
    "\n",
    "Give a tile ID to select an area. To specify an area larger than one tile you can give the top left corner and the bottom right corner tiles. A bounding box covering the entire area will be calculated. Please be aware that too large an area will cause a timeout error at the GSKY server."
   ]
  },
  {
   "cell_type": "code",
   "execution_count": 5,
   "metadata": {},
   "outputs": [
    {
     "data": {
      "text/plain": [
       "['148.50,-34.71,149.73,-35.72', '148.64,-35.60,149.89,-36.61']"
      ]
     },
     "execution_count": 5,
     "metadata": {},
     "output_type": "execute_result"
    }
   ],
   "source": [
    "# Give one tile or two tiles as [top left corner, bottom right corner] below.\n",
    "#tiles = ['17_-39']  # Sydney\n",
    "tiles = ['15_-40','15_-41']  # ACT\n",
    "bbox = [tiles_list[tiles[0]],tiles_list[tiles[1]]]\n",
    "\n",
    "# If you know a BBox containing data (Tip: use TerriaMap to find out) then type it in below.\n",
    "#bbox = ['150.52,-34.15,151.34,-33.56'] # Sydney\n",
    "bbox"
   ]
  },
  {
   "cell_type": "markdown",
   "metadata": {},
   "source": [
    "### Calculate the bounding box and adjust it to fit the plotting area\n",
    "\n",
    "The plotting area has a default dimension of 337x240 pixels. When the area of the bounding box is different to this, the image will be adjusted to fit in this plot. It can result in distortion of the image. To avoid it, we re-calculate the bounding box below."
   ]
  },
  {
   "cell_type": "code",
   "execution_count": 6,
   "metadata": {},
   "outputs": [
    {
     "data": {
      "text/plain": [
       "(148.5, -34.71, 149.89, -36.61)"
      ]
     },
     "execution_count": 6,
     "metadata": {},
     "output_type": "execute_result"
    }
   ],
   "source": [
    "x = float(bbox[0][0:6])\n",
    "y = float(bbox[0][7:13])\n",
    "X = float(bbox[1][14:20])\n",
    "Y = float(bbox[1][21:27])\n",
    "\n",
    "# The longitude dimension is adjusted to fit the plot size of 337*220 pixels. \n",
    "# It is required to avoid distorting the image\n",
    "# X = float('%.2f'%(x + ((abs(Y - y) / 220) * 337)))\n",
    "bbox = (x,y,X,Y)\n",
    "bbox"
   ]
  },
  {
   "cell_type": "markdown",
   "metadata": {},
   "source": [
    "### Get the data from GSKY server using the WCS service\n",
    "\n",
    "The call below asks for the True Color bands (red, green, blue) and False Color bands (nir, swir1, swir2). GSKY always labels the bands as Band 1, 2 and 3. These are taken into variables of appropriate names."
   ]
  },
  {
   "cell_type": "code",
   "execution_count": 8,
   "metadata": {},
   "outputs": [
    {
     "ename": "HTTPError",
     "evalue": "500 Server Error: Internal Server Error for url: http://gsky.nci.org.au/ows/dea?version=1.0.0&request=GetCoverage&service=WCS&Coverage=landsat8_nbar_16day&BBox=148.5%2C-34.71%2C149.89%2C-36.61&time=2013-04-04T00%3A00%3A00.000Z&crs=EPSG%3A4326&format=NetCDF&width=256&height=256&Styles=tc",
     "output_type": "error",
     "traceback": [
      "\u001b[1;31m---------------------------------------------------------------------------\u001b[0m",
      "\u001b[1;31mHTTPError\u001b[0m                                 Traceback (most recent call last)",
      "\u001b[1;32m<ipython-input-8-aaa2aa67160e>\u001b[0m in \u001b[0;36m<module>\u001b[1;34m\u001b[0m\n\u001b[0;32m      6\u001b[0m                          \u001b[0mtime\u001b[0m\u001b[1;33m=\u001b[0m\u001b[1;33m[\u001b[0m\u001b[0mwcs\u001b[0m\u001b[1;33m[\u001b[0m\u001b[0mlayer\u001b[0m\u001b[1;33m]\u001b[0m\u001b[1;33m.\u001b[0m\u001b[0mtimepositions\u001b[0m\u001b[1;33m[\u001b[0m\u001b[0mt\u001b[0m\u001b[1;33m]\u001b[0m\u001b[1;33m]\u001b[0m\u001b[1;33m,\u001b[0m\u001b[1;33m\u001b[0m\u001b[1;33m\u001b[0m\u001b[0m\n\u001b[0;32m      7\u001b[0m                          \u001b[0mbbox\u001b[0m\u001b[1;33m=\u001b[0m\u001b[0mbbox\u001b[0m\u001b[1;33m,\u001b[0m\u001b[0mformat\u001b[0m\u001b[1;33m=\u001b[0m\u001b[1;34m'NetCDF'\u001b[0m\u001b[1;33m,\u001b[0m\u001b[1;33m\u001b[0m\u001b[1;33m\u001b[0m\u001b[0m\n\u001b[1;32m----> 8\u001b[1;33m                          crs='EPSG:4326', width=256, height=256)\n\u001b[0m\u001b[0;32m      9\u001b[0m \u001b[1;31m# Read the output into diskless NetCDF\u001b[0m\u001b[1;33m\u001b[0m\u001b[1;33m\u001b[0m\u001b[1;33m\u001b[0m\u001b[0m\n\u001b[0;32m     10\u001b[0m \u001b[0mnc\u001b[0m \u001b[1;33m=\u001b[0m \u001b[0mDataset\u001b[0m\u001b[1;33m(\u001b[0m\u001b[1;34m'dtemp.nc'\u001b[0m\u001b[1;33m,\u001b[0m\u001b[1;34m'r'\u001b[0m\u001b[1;33m,\u001b[0m\u001b[0mdiskless\u001b[0m\u001b[1;33m=\u001b[0m\u001b[1;32mTrue\u001b[0m\u001b[1;33m,\u001b[0m\u001b[0mpersist\u001b[0m\u001b[1;33m=\u001b[0m\u001b[1;32mFalse\u001b[0m\u001b[1;33m,\u001b[0m \u001b[0mmemory\u001b[0m\u001b[1;33m=\u001b[0m\u001b[0moutput\u001b[0m\u001b[1;33m.\u001b[0m\u001b[0mread\u001b[0m\u001b[1;33m(\u001b[0m\u001b[1;33m)\u001b[0m\u001b[1;33m)\u001b[0m\u001b[1;33m\u001b[0m\u001b[1;33m\u001b[0m\u001b[0m\n",
      "\u001b[1;32m~\\.conda\\envs\\gsky\\lib\\site-packages\\owslib\\coverage\\wcs100.py\u001b[0m in \u001b[0;36mgetCoverage\u001b[1;34m(self, identifier, bbox, time, format, crs, width, height, resx, resy, resz, parameter, method, **kwargs)\u001b[0m\n\u001b[0;32m    163\u001b[0m             \u001b[0mlog\u001b[0m\u001b[1;33m.\u001b[0m\u001b[0mdebug\u001b[0m\u001b[1;33m(\u001b[0m\u001b[1;34m'WCS 1.0.0 DEBUG: Second part of URL: %s'\u001b[0m\u001b[1;33m%\u001b[0m\u001b[0mdata\u001b[0m\u001b[1;33m)\u001b[0m\u001b[1;33m\u001b[0m\u001b[1;33m\u001b[0m\u001b[0m\n\u001b[0;32m    164\u001b[0m \u001b[1;33m\u001b[0m\u001b[0m\n\u001b[1;32m--> 165\u001b[1;33m         \u001b[0mu\u001b[0m \u001b[1;33m=\u001b[0m \u001b[0mopenURL\u001b[0m\u001b[1;33m(\u001b[0m\u001b[0mbase_url\u001b[0m\u001b[1;33m,\u001b[0m \u001b[0mdata\u001b[0m\u001b[1;33m,\u001b[0m \u001b[0mmethod\u001b[0m\u001b[1;33m,\u001b[0m \u001b[0mself\u001b[0m\u001b[1;33m.\u001b[0m\u001b[0mcookies\u001b[0m\u001b[1;33m,\u001b[0m \u001b[0mauth\u001b[0m\u001b[1;33m=\u001b[0m\u001b[0mself\u001b[0m\u001b[1;33m.\u001b[0m\u001b[0mauth\u001b[0m\u001b[1;33m)\u001b[0m\u001b[1;33m\u001b[0m\u001b[1;33m\u001b[0m\u001b[0m\n\u001b[0m\u001b[0;32m    166\u001b[0m         \u001b[1;32mreturn\u001b[0m \u001b[0mu\u001b[0m\u001b[1;33m\u001b[0m\u001b[1;33m\u001b[0m\u001b[0m\n\u001b[0;32m    167\u001b[0m \u001b[1;33m\u001b[0m\u001b[0m\n",
      "\u001b[1;32m~\\.conda\\envs\\gsky\\lib\\site-packages\\owslib\\util.py\u001b[0m in \u001b[0;36mopenURL\u001b[1;34m(url_base, data, method, cookies, username, password, timeout, headers, verify, cert, auth)\u001b[0m\n\u001b[0;32m    202\u001b[0m \u001b[1;33m\u001b[0m\u001b[0m\n\u001b[0;32m    203\u001b[0m     \u001b[1;32mif\u001b[0m \u001b[0mreq\u001b[0m\u001b[1;33m.\u001b[0m\u001b[0mstatus_code\u001b[0m \u001b[1;32min\u001b[0m \u001b[1;33m[\u001b[0m\u001b[1;36m404\u001b[0m\u001b[1;33m,\u001b[0m \u001b[1;36m500\u001b[0m\u001b[1;33m,\u001b[0m \u001b[1;36m502\u001b[0m\u001b[1;33m,\u001b[0m \u001b[1;36m503\u001b[0m\u001b[1;33m,\u001b[0m \u001b[1;36m504\u001b[0m\u001b[1;33m]\u001b[0m\u001b[1;33m:\u001b[0m    \u001b[1;31m# add more if needed\u001b[0m\u001b[1;33m\u001b[0m\u001b[1;33m\u001b[0m\u001b[0m\n\u001b[1;32m--> 204\u001b[1;33m         \u001b[0mreq\u001b[0m\u001b[1;33m.\u001b[0m\u001b[0mraise_for_status\u001b[0m\u001b[1;33m(\u001b[0m\u001b[1;33m)\u001b[0m\u001b[1;33m\u001b[0m\u001b[1;33m\u001b[0m\u001b[0m\n\u001b[0m\u001b[0;32m    205\u001b[0m \u001b[1;33m\u001b[0m\u001b[0m\n\u001b[0;32m    206\u001b[0m     \u001b[1;31m# check for service exceptions without the http header set\u001b[0m\u001b[1;33m\u001b[0m\u001b[1;33m\u001b[0m\u001b[1;33m\u001b[0m\u001b[0m\n",
      "\u001b[1;32m~\\.conda\\envs\\gsky\\lib\\site-packages\\requests\\models.py\u001b[0m in \u001b[0;36mraise_for_status\u001b[1;34m(self)\u001b[0m\n\u001b[0;32m    938\u001b[0m \u001b[1;33m\u001b[0m\u001b[0m\n\u001b[0;32m    939\u001b[0m         \u001b[1;32mif\u001b[0m \u001b[0mhttp_error_msg\u001b[0m\u001b[1;33m:\u001b[0m\u001b[1;33m\u001b[0m\u001b[1;33m\u001b[0m\u001b[0m\n\u001b[1;32m--> 940\u001b[1;33m             \u001b[1;32mraise\u001b[0m \u001b[0mHTTPError\u001b[0m\u001b[1;33m(\u001b[0m\u001b[0mhttp_error_msg\u001b[0m\u001b[1;33m,\u001b[0m \u001b[0mresponse\u001b[0m\u001b[1;33m=\u001b[0m\u001b[0mself\u001b[0m\u001b[1;33m)\u001b[0m\u001b[1;33m\u001b[0m\u001b[1;33m\u001b[0m\u001b[0m\n\u001b[0m\u001b[0;32m    941\u001b[0m \u001b[1;33m\u001b[0m\u001b[0m\n\u001b[0;32m    942\u001b[0m     \u001b[1;32mdef\u001b[0m \u001b[0mclose\u001b[0m\u001b[1;33m(\u001b[0m\u001b[0mself\u001b[0m\u001b[1;33m)\u001b[0m\u001b[1;33m:\u001b[0m\u001b[1;33m\u001b[0m\u001b[1;33m\u001b[0m\u001b[0m\n",
      "\u001b[1;31mHTTPError\u001b[0m: 500 Server Error: Internal Server Error for url: http://gsky.nci.org.au/ows/dea?version=1.0.0&request=GetCoverage&service=WCS&Coverage=landsat8_nbar_16day&BBox=148.5%2C-34.71%2C149.89%2C-36.61&time=2013-04-04T00%3A00%3A00.000Z&crs=EPSG%3A4326&format=NetCDF&width=256&height=256&Styles=tc"
     ]
    }
   ],
   "source": [
    "# Construct the URL for a WCS call and send it to the GSKY server.\n",
    "# Style can be False Color (fc) or True Color (tc)\n",
    "# This NB uses only NetCDF and EPSG:4326. Hence, do not change these.\n",
    "# If any error, the displayed URL can be opened in a browser to see the actual error message.\n",
    "output = wcs.getCoverage(identifier=layer, Styles='tc',\n",
    "                         time=[wcs[layer].timepositions[t]],\n",
    "                         bbox=bbox,format='NetCDF',\n",
    "                         crs='EPSG:4326', width=256, height=256)\n",
    "# Read the output into diskless NetCDF\n",
    "nc = Dataset('dtemp.nc','r',diskless=True,persist=False, memory=output.read())\n",
    "r = nc.variables['Band1'][:]\n",
    "g = nc.variables['Band2'][:]\n",
    "b = nc.variables['Band3'][:]\n",
    "\n",
    "# print(output.geturl())\n",
    "\n",
    "output = wcs.getCoverage(identifier=layer, Styles='fc',\n",
    "                         time=[wcs[layer].timepositions[t]],\n",
    "                         bbox=bbox,format='NetCDF',\n",
    "                         crs='EPSG:4326', width=256, height=256)\n",
    "# Read the output into diskless NetCDF\n",
    "nc = Dataset('dtemp.nc','r',diskless=True,persist=False, memory=output.read())\n",
    "s1 = nc.variables['Band1'][:]\n",
    "n = nc.variables['Band2'][:]\n",
    "g = nc.variables['Band3'][:]\n",
    "\n",
    "# print(output.geturl())"
   ]
  },
  {
   "cell_type": "markdown",
   "metadata": {},
   "source": [
    "### Plot the data\n",
    "\n",
    "The plots below will display, singly or together, the true color and false color data."
   ]
  },
  {
   "cell_type": "code",
   "execution_count": null,
   "metadata": {
    "scrolled": true
   },
   "outputs": [],
   "source": [
    "plt.imshow(b, cmap='Blues')\n",
    "plt.title('Blue')\n",
    "plt.colorbar()\n",
    "plt.show"
   ]
  },
  {
   "cell_type": "code",
   "execution_count": null,
   "metadata": {
    "scrolled": true
   },
   "outputs": [],
   "source": [
    "# Plot the green band from true color\n",
    "plt.imshow(g, cmap='Greens')\n",
    "plt.title('Green')\n",
    "plt.colorbar()\n",
    "plt.show"
   ]
  },
  {
   "cell_type": "code",
   "execution_count": null,
   "metadata": {},
   "outputs": [],
   "source": [
    "# Plot the red band  from true color\n",
    "plt.imshow(r, cmap='Reds')\n",
    "plt.title('Red')\n",
    "plt.colorbar()\n",
    "plt.show"
   ]
  },
  {
   "cell_type": "code",
   "execution_count": null,
   "metadata": {},
   "outputs": [],
   "source": [
    "# Plot all three true color bands together\n",
    "# Stack the three bands together and cast it as float32\n",
    "# In the line below the 'axis=2' ensures that the data shape is 256,256,3\n",
    "# rgb = np.stack([nc.variables['Band%d' % (b+1)] for b in range(3)], axis=2).astype(np.float32)\n",
    "rgb = np.stack([r, g, b], axis=2).astype(np.float32)\n",
    "# Convert all values into a range from 0 to 1. This is important.\n",
    "rgb /= rgb.max()\n",
    "\n",
    "# Uncomment next line to see the data values.\n",
    "# print(rgb)\n",
    "\n",
    "# Plot it\n",
    "imgplot = plt.imshow(rgb)\n",
    "plt.show()"
   ]
  },
  {
   "cell_type": "code",
   "execution_count": null,
   "metadata": {},
   "outputs": [],
   "source": [
    "# Plot the swir1\n",
    "plt.imshow(s1, cmap='gist_rainbow')\n",
    "plt.title('Swir1')\n",
    "plt.colorbar()\n",
    "plt.show"
   ]
  },
  {
   "cell_type": "code",
   "execution_count": null,
   "metadata": {},
   "outputs": [],
   "source": [
    "# Plot the nir\n",
    "plt.imshow(n, cmap='Accent')\n",
    "plt.title('Nir')\n",
    "plt.colorbar()\n",
    "plt.show"
   ]
  },
  {
   "cell_type": "code",
   "execution_count": null,
   "metadata": {},
   "outputs": [],
   "source": [
    "# Plot the green\n",
    "plt.imshow(g, cmap='Greens')\n",
    "plt.title('Green')\n",
    "plt.colorbar()\n",
    "plt.show"
   ]
  },
  {
   "cell_type": "code",
   "execution_count": null,
   "metadata": {},
   "outputs": [],
   "source": [
    "# Plot all three False color bands together\n",
    "# Stack the three bands together and cast it as float32\n",
    "# In the line below the 'axis=2' ensures that the data shape is 256,256,3\n",
    "# rgb = np.stack([nc.variables['Band%d' % (b+1)] for b in range(3)], axis=2).astype(np.float32)\n",
    "rgb = np.stack([s1, n, g], axis=2).astype(np.float32)\n",
    "# Convert all values into a range from 0 to 1. This is important.\n",
    "rgb /= rgb.max()\n",
    "\n",
    "# Uncomment next line to see the data values.\n",
    "# print(rgb)\n",
    "\n",
    "# Plot it\n",
    "imgplot = plt.imshow(rgb)\n",
    "plt.show()"
   ]
  },
  {
   "cell_type": "markdown",
   "metadata": {},
   "source": [
    "### Compute Normalised Difference Water Index (NDWI)\n",
    "\n",
    "The NDWI index is most appropriate for water body mapping. The water body has strong absorbability and low radiation in the range from visible to infrared wavelengths. The index uses the green and Near Infra-red bands of remote sensing images based on this phenomenon."
   ]
  },
  {
   "cell_type": "code",
   "execution_count": null,
   "metadata": {},
   "outputs": [],
   "source": [
    "# Compute NDWI using the formula (green - nir) / (green + nir). This will calculate \n",
    "# NDWI for every time-step in the dataset:\n",
    "ds_ndwi = (g - n) / (g + n)\n",
    "\n",
    "# Uncomment below to see the data\n",
    "# ds_ndwi\n",
    "\n",
    "plt.imshow(ds_ndwi, cmap='Spectral')\n",
    "plt.title('ds_ndwi')\n",
    "plt.colorbar()\n",
    "plt.show"
   ]
  },
  {
   "cell_type": "markdown",
   "metadata": {},
   "source": [
    "### Compute Normalised Difference Vegetation Index (NDVI)¶\n",
    "\n",
    "The normalized difference vegetation index (NDVI) is a simple graphical indicator that can be used to analyze remote sensing measurements and assess whether the target contains live green vegetation or not."
   ]
  },
  {
   "cell_type": "code",
   "execution_count": null,
   "metadata": {
    "scrolled": true
   },
   "outputs": [],
   "source": [
    "# Compute NDVI using the formula (nir - red) / (nir + red)\n",
    "ds_ndvi = (n - r) / (n + r)\n",
    "\n",
    "# Plot:\n",
    "plt.imshow(ds_ndvi, cmap='winter')\n",
    "plt.title('ds_ndvi')\n",
    "plt.colorbar()\n",
    "plt.show"
   ]
  },
  {
   "cell_type": "markdown",
   "metadata": {},
   "source": [
    "### Compute Normalised Difference Snow Index (NDSI)\n",
    "\n",
    "Normalized Difference Snow Index (NDSI) is used to delineate the presence of snow/ice. It is a standardized ratio of the difference in the reflectance in the bands that take advantage of unique signature and the spectral difference to indicate snow from the surrounding features and even clouds."
   ]
  },
  {
   "cell_type": "code",
   "execution_count": null,
   "metadata": {},
   "outputs": [],
   "source": [
    "# Compute index by subtracting, summing and dividing the `green` and `swir1` bands\n",
    "ds_ndsi = (g - s1) / (g + s1)\n",
    "\n",
    "# Plot one sample timestep from the NDSI dataset\n",
    "plt.imshow(ds_ndsi, cmap='cool')\n",
    "plt.title('ds_ndsi')\n",
    "plt.colorbar()\n",
    "plt.show"
   ]
  },
  {
   "cell_type": "markdown",
   "metadata": {},
   "source": [
    "### Threshold NDSI and NDVI to identify snowy, non-vegetated pixels\n",
    "\n"
   ]
  },
  {
   "cell_type": "code",
   "execution_count": null,
   "metadata": {},
   "outputs": [],
   "source": [
    "# Threshold that will be applied to the NDSI layer to identify pixels containing snow\n",
    "ndsi_threshold = 0\n",
    "\n",
    "# Threshold that will be applied to the NDVI layer to identify pixels containg vegetation\n",
    "ndvi_threshold = 0.3\n",
    "\n",
    "# Apply NDSI threshold defined above to identify snow (pixels with NDSI values greater than X)\n",
    "snow_ds = ds_ndsi > ndsi_threshold\n",
    "\n",
    "# Apply NDSI threshold defined above to identify snow (pixels with NDVI values less than X)\n",
    "noveg_ds = ds_ndvi < ndvi_threshold\n",
    "\n",
    "# Finally, keep only pixels that are both snowy AND non-vegetated:\n",
    "snow_ds = noveg_ds & noveg_ds\n",
    "# Plot the resulting layer\n",
    "plt.imshow(snow_ds, cmap='BuPu')\n",
    "plt.title('snow_ds')\n",
    "plt.show"
   ]
  },
  {
   "cell_type": "markdown",
   "metadata": {},
   "source": [
    "`Copyright` &copy; `2019 by National Computational Infrastructure (NCI).`"
   ]
  }
 ],
 "metadata": {
  "kernelspec": {
   "display_name": "Python 3",
   "language": "python",
   "name": "python3"
  },
  "language_info": {
   "codemirror_mode": {
    "name": "ipython",
    "version": 3
   },
   "file_extension": ".py",
   "mimetype": "text/x-python",
   "name": "python",
   "nbconvert_exporter": "python",
   "pygments_lexer": "ipython3",
   "version": "3.7.4"
  }
 },
 "nbformat": 4,
 "nbformat_minor": 2
}
