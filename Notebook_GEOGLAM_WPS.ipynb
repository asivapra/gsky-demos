{
 "cells": [
  {
   "cell_type": "markdown",
   "metadata": {},
   "source": [
    "![](http://nci.org.au/wp-content/themes/nci/img/img-logo-large.png)\n",
    "\n",
    "-------\n",
    "\n",
    "# Web Processing Service (WPS)\n",
    "## How to use WPS on the GEOGLAM RAPP Map\n",
    "\n",
    "RAPP Map is the spatial data platform for the Rangeland and Pasture Productivity activity which is part of the Group on Earth Observations Global Agricultural Monitoring (GEOGLAM) initiative. This online tool gives access to information about the state and condition of global rangelands. It provides time-series data on the vegetation and environmental conditions, allowing national and regional tracking of the resources which sustains livestock production. It has been developed, and is currently hosted, by Data61 with the assistance of IT resources and services from the National Computational Infrastructure (NCI), and the AusCover facility. RAPP Map is supported by CSIRO and through funding from the Australian Government's National Landcare Programme.\n",
    "\n",
    "For more information on GEOGLAM RAPP Map, please visit https://map.geo-rapp.org/about.html\n",
    "\n",
    "### In this notebook:\n",
    "\n",
    "#### How to use the Open Geospatial Consortium (OGC) Web Processing Service (WPS) protocol through the Data61 GEOGLAM RAPP MAP:\n",
    "- <a href='#geoglam_polygon_drill'> Using the GEOGLAM polygon drill</a>\n",
    "\n",
    "\n",
    "#### The following material uses Geoscience Australia's Earth Observation Collection. Additional information about this data collection can be found [here](https://geonetwork.nci.org.au/geonetwork/srv/eng/catalog.search#/metadata/3a2cd509-0e82-4381-98c7-522756da533b).\n",
    "\n",
    "---------\n",
    "\n",
    "<br>\n"
   ]
  },
  {
   "cell_type": "markdown",
   "metadata": {},
   "source": [
    "<a id='geoglam_polygon_drill'></a> \n",
    "## Constructing WPS Requests using the GEOGLAM polygon drill"
   ]
  },
  {
   "cell_type": "markdown",
   "metadata": {},
   "source": [
    "The current WPS request for GEOGLAM takes a polygon as input and calcuates the band averages over time for the polygon of interest. Let's first access the GEOGLAM WPS via the TerriaJS interface:\n",
    "\n",
    "http://map.geo-rapp.org/"
   ]
  },
  {
   "cell_type": "markdown",
   "metadata": {},
   "source": [
    "<img src=\"./images/geoglam1.png\">\n",
    "\n"
   ]
  },
  {
   "cell_type": "markdown",
   "metadata": {},
   "source": [
    "To add data to the map, click on the 'Add data' tab:\n",
    "\n",
    "<img src=\"./images/geoglam2.png\">\n",
    "\n",
    "Here we can see a number of both global and Australian datasets that can be added to GEOGLAM. Have a play around and add some of these datasets to the map. As an example we have added the Global Rainfall (5km) dataset:"
   ]
  },
  {
   "cell_type": "markdown",
   "metadata": {},
   "source": [
    "<img src=\"./images/geoglam2b.png\">\n",
    "\n",
    "You can adjust the opacity (green box) and time (blue box). To remove the dataset, click the _Remove_ button (red box). \n",
    "\n",
    "<img src=\"./images/geoglam2c.png\">\n",
    "\n",
    "Try out the split option where you can select two different dates (one left, one right) and use the _split_ bar to see the changes in data between the specified dates:\n",
    "\n",
    "<img src=\"./images/geoglam2d.png\">"
   ]
  },
  {
   "cell_type": "markdown",
   "metadata": {},
   "source": [
    "Now let's try using the __Analysis Tools__. Once again, click on the 'Add data' tab and then _Analysis Tools_. \n",
    "<img src=\"./images/geoglam3.png\">\n",
    "\n",
    "These tools can be used to query the Vegetation Fractional Cover layer data. The output is a graph which includes NPV, PV, NPV+PV Total, BS, and Precipitation. For this example, we will draw a polygon over an area we are interested in:"
   ]
  },
  {
   "cell_type": "markdown",
   "metadata": {},
   "source": [
    "<img src=\"./images/geoglam4.png\">\n",
    "\n",
    "\n"
   ]
  },
  {
   "cell_type": "markdown",
   "metadata": {},
   "source": [
    "Let's draw a polygon on the map and then click the '__Done__' button:\n",
    "\n",
    "<img src=\"./images/geoglam5.png\">\n",
    "\n",
    "This will take you back to the **Analysis Tools**. Now click the '__Run Analysis__' button:  "
   ]
  },
  {
   "cell_type": "markdown",
   "metadata": {},
   "source": [
    "<img src=\"./images/geoglam6.png\">\n"
   ]
  },
  {
   "cell_type": "markdown",
   "metadata": {},
   "source": [
    "Now you can visualise the time series charts of Precipitation, PV, NPV, NPV+PV Total and BS.\n",
    "\n",
    "<img src=\"./images/geoglam7.png\">"
   ]
  },
  {
   "cell_type": "markdown",
   "metadata": {},
   "source": [
    "To add or remove time series, click on the appropriate legend items (green box). To download the time series as a csv, click the **Download** button (red box):\n",
    "\n",
    "<img src=\"./images/geoglam8.png\">"
   ]
  }
 ],
 "metadata": {
  "anaconda-cloud": {},
  "kernelspec": {
   "display_name": "Python 3",
   "language": "python",
   "name": "python3"
  },
  "language_info": {
   "codemirror_mode": {
    "name": "ipython",
    "version": 3
   },
   "file_extension": ".py",
   "mimetype": "text/x-python",
   "name": "python",
   "nbconvert_exporter": "python",
   "pygments_lexer": "ipython3",
   "version": "3.5.2"
  }
 },
 "nbformat": 4,
 "nbformat_minor": 1
}
