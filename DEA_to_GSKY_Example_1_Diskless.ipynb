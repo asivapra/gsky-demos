{
 "cells": [
  {
   "cell_type": "markdown",
   "metadata": {},
   "source": [
    "# Using GSKY to replace datacube\n",
    "\n",
    "### This notebook will demonstrate the use of GSKY to retrieve and display landsat data.\n",
    "\n",
    "#### Example 1\n",
    "\n",
    "In this example we will manually type in a bounding box to display the GSKY layer, or select from a list of hard coded bounding boxes.\n",
    "\n",
    "Instead of writing the GSKY output into a NetCDF file and then reading it back into Xarray, this example uses the **diskless** NetCDF that eliminates the disk I/O. Though it is quite unnecessary to do so in a single datafile situation, it is nevertheless given here to demonstrate the capability.\n",
    "\n",
    "The data is in **netCDF4.\\_netCDF4.Dataset** format. A drawback of plotting the values directly from it is that only one band per image can be plotted (cf. three bands together when using Xarray). Converting the in-memory data into Xarray Dataset does not work."
   ]
  },
  {
   "cell_type": "markdown",
   "metadata": {},
   "source": [
    "###### Specifics\n",
    "\n",
    "- Converting a DEA notebook example to use GSKY instead of datacube.\n",
    "- Uses WCS to get an area from a specified layer/date/bbox/time, and differs from the DEA example where an area around a single point is calculated (\"LoadingCloudfreeSentinel2andLandsat.ipynb\").\n",
    "- Identifying an area which has data is a challenge. \n",
    "    - Hence, a number of BBoxes, which are known to have data are hard coded. \n",
    "    - Selecting a date will auto select the correct BBox.\n",
    "- This example can only use one sensor (\"ls8\") instead of three sensors as DEA has used.\n",
    "- Only one time slice can be used in WCS. \n",
    "    - You can choose from all available times in the layer.\n",
    "    - Only 2 time slices have valid BBoxes hard coded. \n",
    "    - The fourth uses the whole of Australia.\n",
    "- If you can determine a valid BBox for a date (Tip: Use TerriaMap) it can be manually typed in.\n",
    "- The DEA example, using datacube, can get the data for a time range. It is not possible in GSKY.\n",
    "\n",
    "**Author:** Arapaut V. Sivaprasad\n",
    "\n",
    "**Date:** 17 December, 2019"
   ]
  },
  {
   "cell_type": "markdown",
   "metadata": {},
   "source": [
    "### How to use\n",
    "\n",
    "Use this notebook to display a GSKY layer corresponding to a time slice and bounding box (BBox). Instead of manually typing in the BBox, you can select a time to use hard coded BBoxes.\n",
    "\n",
    "- Specify the name of layer in cell 2\n",
    "    - layer = \"landsat8_nbar_16day\"\n",
    "    - If necessary, uncomment a code block to see all available layers.\n",
    "\n",
    "- Identify the available time positions (dates of data acquisitions) in cell 3\n",
    "    - Give m,n values to display the range of dates (from 0 to n_times-1)\n",
    "    - Give t=i to say which date to use (from 0 to n_times-1).\n",
    "\n",
    "- If you know another BBox with data (Tip: use TerriaMap to find) then type it in as,\n",
    "    - bbox = (130.00, -27.00, 131.00, -29.00)\n",
    "\n",
    "- Execute all cells from top to bottom."
   ]
  },
  {
   "cell_type": "code",
   "execution_count": null,
   "metadata": {},
   "outputs": [],
   "source": [
    "##########################################################\n",
    "# Author: Arapaut V. Sivaprasad.                         #\n",
    "# Dates: Created: 18/10/2019; Last Modified: 14/01/2020  #\n",
    "##########################################################\n",
    "from owslib.wcs import WebCoverageService\n",
    "from netCDF4 import Dataset\n",
    "import matplotlib.pylab as plt\n",
    "%matplotlib inline\n",
    "import numpy as np\n",
    "import logging, sys\n",
    "logging.disable(sys.maxsize)\n"
   ]
  },
  {
   "cell_type": "markdown",
   "metadata": {},
   "source": [
    "### GSKY server and layer name\n",
    "\n",
    "The GSKY Capability Endpoint URL is specified in the cell below. A layer must also be hard coded. You can display all layers in the dataset and choose any layer."
   ]
  },
  {
   "cell_type": "code",
   "execution_count": null,
   "metadata": {},
   "outputs": [],
   "source": [
    "# Specify the GSKY production URL here. The layer is hard coded\n",
    "gsky_url = 'https://gsky.nci.org.au/ows/dea'\n",
    "wcs = WebCoverageService(gsky_url, version='1.0.0')\n",
    "layer = \"landsat8_nbar_16day\"\n",
    "\n",
    "# Uncomment below to see all layers.\n",
    "\n",
    "#for layer in list(wcs.contents):\n",
    "#    print (\"Layer Name:\", layer)\n",
    "#    print (\"Title:\", wcs[layer].title, '\\n')"
   ]
  },
  {
   "cell_type": "markdown",
   "metadata": {},
   "source": [
    "### Time position\n",
    "\n",
    "To get the data it is necessary to send a single time position. You can uncomment a line to display all vailable time positions."
   ]
  },
  {
   "cell_type": "code",
   "execution_count": null,
   "metadata": {
    "scrolled": true
   },
   "outputs": [],
   "source": [
    "# To display the available time slices in any range, specify the start and end values as m,n below\n",
    "time = wcs[layer].timepositions\n",
    "n_times = len(time)\n",
    "m = 0\n",
    "n = n_times\n",
    "\n",
    "# Unlike in the case of datacube, where a time range can be specified, GSKY requires a specific date.\n",
    "# This time slice is specified below. \n",
    "t = 0\n",
    "\n",
    "# Uncomment the line below to see all time positions.\n",
    "# print (\"Total of\", n_times,'timepositions:\\n\\n', time[m:n])\n",
    "print(time[t])"
   ]
  },
  {
   "cell_type": "markdown",
   "metadata": {},
   "source": [
    "### Construct a bounding box\n",
    "\n",
    "To get the data from GSKY it is necessary to send the request with a layer, time and bounding box. In the cell below the bounding box can be manually typed in or selected from a list.  "
   ]
  },
  {
   "cell_type": "code",
   "execution_count": null,
   "metadata": {},
   "outputs": [],
   "source": [
    "# Specify a 2D array of BBoxes as west, north, east, south in EPSG:4326\n",
    "w = 10;\n",
    "BBoxes = [0 for x in range(w)] \n",
    "BBoxes[0] = ['140.00,-27.01,141.00,-29.00']\n",
    "BBoxes[1] = ['130.00,-27.00,131.00,-29.00']\n",
    "BBoxes[2] = ['150.00,-27.00,151.00,-29.00']\n",
    "#BBoxes[3] = ['112.47,-11.14,154.02,-43.59'] # Australia\n",
    "bbox = BBoxes[t]\n",
    "\n",
    "# If you know another BBox containing data (Tip: use TerriaMap to find out) then type it in below.\n",
    "#bbox = ['130.00,-27.00,131.00,-29.00']\n",
    "\n",
    "x = float(bbox[0][0:6])\n",
    "y = float(bbox[0][7:13])\n",
    "X = float(bbox[0][14:20])\n",
    "Y = float(bbox[0][21:27])\n",
    "X = float('%.2f'%(x + ((abs(Y - y) / 220) * 337)))\n",
    "\n",
    "# It is important to send the bbox as a tuple in the call to GSKY server\n",
    "bbox = (x,y,X,Y)\n",
    "bbox"
   ]
  },
  {
   "cell_type": "markdown",
   "metadata": {},
   "source": [
    "### Construct the GSKY end point URL\n",
    "\n",
    "The GSKY capability endpoint URL is constructed below. You must specify a style ('fc' or 'tc'). \n",
    "\n",
    "#### DO NOT write the data into a file\n",
    "\n",
    "The GSKY server returns the data in NetCDF format which is read into the variable, nc, in memory. It is NOT written to the disk."
   ]
  },
  {
   "cell_type": "code",
   "execution_count": null,
   "metadata": {},
   "outputs": [],
   "source": [
    "# Construct the URL for a WCS call and send it to the GSKY server.\n",
    "# Style can be False Color (fc) or True Color (tc)\n",
    "# This notebook uses only NetCDF and EPSG:4326. Hence, do not change these.\n",
    "# If any error, the displayed URL can be opened in a browser to see the actual error message.\n",
    "output = wcs.getCoverage(identifier=layer, Styles='fc',\n",
    "                         time=[wcs[layer].timepositions[t]],\n",
    "                         bbox=bbox,format='NetCDF',\n",
    "                         crs='EPSG:4326', width=256, height=256)\n",
    "\n",
    "# Read the output into diskless NetCDF\n",
    "nc = Dataset('dtemp.nc','r',diskless=True,persist=False, memory=output.read())\n",
    "\n",
    "# Uncomment next line to see the URL sent to the GSKY server.\n",
    "# print(output.geturl())"
   ]
  },
  {
   "cell_type": "markdown",
   "metadata": {},
   "source": [
    "### Stack the bands together and plot it\n",
    "To plot the bands together, as in the case of Xarray, it is necessary to stack them using numpy. "
   ]
  },
  {
   "cell_type": "code",
   "execution_count": null,
   "metadata": {},
   "outputs": [],
   "source": [
    "# Stack the three bands together and cast it as float32\n",
    "# In the line below the 'axis=2' ensures that the data shape is 256,256,3\n",
    "rgb = np.stack([nc.variables['Band%d' % (b+1)] for b in range(3)], axis=2).astype(np.float32)\n",
    "\n",
    "# Convert all values into a range from 0 to 1. This is important.\n",
    "rgb /= rgb.max()\n",
    "\n",
    "# Uncomment next line to see the data values.\n",
    "# print(rgb)\n",
    "\n",
    "# Plot it\n",
    "imgplot = plt.imshow(rgb)\n",
    "plt.show()"
   ]
  },
  {
   "cell_type": "markdown",
   "metadata": {},
   "source": [
    "`Copyright` &copy; `2019 by National Computational Infrastructure (NCI).`"
   ]
  }
 ],
 "metadata": {
  "kernelspec": {
   "display_name": "Python 3",
   "language": "python",
   "name": "python3"
  },
  "language_info": {
   "codemirror_mode": {
    "name": "ipython",
    "version": 3
   },
   "file_extension": ".py",
   "mimetype": "text/x-python",
   "name": "python",
   "nbconvert_exporter": "python",
   "pygments_lexer": "ipython3",
   "version": "3.7.4"
  }
 },
 "nbformat": 4,
 "nbformat_minor": 2
}
