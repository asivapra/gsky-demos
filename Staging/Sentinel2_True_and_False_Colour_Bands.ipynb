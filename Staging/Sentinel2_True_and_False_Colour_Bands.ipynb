{
 "cells": [
  {
   "cell_type": "markdown",
   "metadata": {},
   "source": [
    "\n",
    "### What does this notebook do? \n",
    "\n",
    "This notebook steps you through how to load in and plot up data from Sentinel 2. It explores the data that are available from the Sentinel 2 satellite, and briefly describes the Sentinel satellite bands. It then loads in the `s2a_ard_granule` product and plots it up in true and false colour. It uses the provided pixel quality data to filters the example scene based on cloud and cloud shadow-free pixels.\n",
    "\n",
    "**NOTE:** This is using the dev GSKY server. Must change to production.\n"
   ]
  },
  {
   "cell_type": "markdown",
   "metadata": {},
   "source": [
    "###### Specifics\n",
    "\n",
    "- Converting a DEA notebook example to use GSKY instaed of datacube.\n",
    "\n",
    "- Uses WCS to get an area from a specified layer/date/bbox/time, and differs from the DEA example.\n",
    "\n",
    "- Only one time slice can be used in WCS. \n",
    "    - You can choose from all available times in the layer.\n",
    "    - Only 2 time slices have valid BBoxes hard coded. \n",
    "    - The fourth time uses the whole of Australia.\n",
    "\n",
    "- If you can determine a valid BBox for a date (Tip: Use TerriaMap) it can be manually typed in.\n",
    "\n",
    "- The DEA example, using datacube, can get the data for a time range. It is not possible in GSKY.\n",
    "\n",
    "**Author:** Arapaut V. Sivaprasad\n",
    "\n",
    "**Date:** 24 October, 2019"
   ]
  },
  {
   "cell_type": "code",
   "execution_count": 55,
   "metadata": {},
   "outputs": [],
   "source": [
    "##########################################################\n",
    "# Author: Arapaut V. Sivaprasad.                         #\n",
    "# Dates: Created: 23/10/2019; Last Modified: 24/10/2019  #\n",
    "##########################################################\n",
    "import sys\n",
    "import os\n",
    "\n",
    "# GSKY-specific imports\n",
    "from owslib.wcs import WebCoverageService\n",
    "from random import randrange\n",
    "import xarray as xr\n",
    "%matplotlib inline"
   ]
  },
  {
   "cell_type": "code",
   "execution_count": 56,
   "metadata": {},
   "outputs": [
    {
     "data": {
      "text/plain": [
       "{'sentinel2_nbart_daily': <owslib.coverage.wcs100.ContentMetadata at 0x24c662a6608>,\n",
       " 'landsat8_nbar_16day': <owslib.coverage.wcs100.ContentMetadata at 0x24c662a6088>}"
      ]
     },
     "execution_count": 56,
     "metadata": {},
     "output_type": "execute_result"
    }
   ],
   "source": [
    "# Specify the GSKY production URL here. The layer is hard coded\n",
    "gsky_url = 'http://130.56.242.15/ows/ipynb'\n",
    "wcs = WebCoverageService(gsky_url, version='1.0.0')\n",
    "layer = \"sentinel2_nbart_daily\"\n",
    "\n",
    "# Uncomment below to see all layers.\n",
    "\n",
    "#for layer in list(wcs.contents):\n",
    "#    print (\"Layer Name:\", layer)\n",
    "#    print (\"Title:\", wcs[layer].title, '\\n')\n",
    "    \n",
    "#wcs.contents['landsat8_nbar_16day']\n",
    "wcs.contents\n",
    "#wcs[layer]"
   ]
  },
  {
   "cell_type": "code",
   "execution_count": 57,
   "metadata": {},
   "outputs": [
    {
     "data": {
      "text/plain": [
       "'2019-11-09T00:00:00.000Z'"
      ]
     },
     "execution_count": 57,
     "metadata": {},
     "output_type": "execute_result"
    }
   ],
   "source": [
    "# To display the available time slices in any range, specify the start and end values as m,n below\n",
    "time = wcs[layer].timepositions\n",
    "n_times = len(time)\n",
    "m = 0\n",
    "n = n_times-1\n",
    "#print (\"Total of\", n_times,'timepositions:\\n\\n', time[m:n])\n",
    "\n",
    "# Unlike in the case of datacube, where a time range can be specified, GSKY requires a specific date.\n",
    "# This specific time slice is specified below. \n",
    "t = n_times-3\n",
    "wcs[layer].timepositions[t]"
   ]
  },
  {
   "cell_type": "code",
   "execution_count": 58,
   "metadata": {},
   "outputs": [],
   "source": [
    "tiles_list = {}\n",
    "with open(\"tiles_bboxes.txt\") as f:\n",
    "    for line in f:\n",
    "        (key, val) = line.split()\n",
    "        tiles_list[str(key)] = val\n",
    "\n",
    "# Uncomment below to see all tiles and ther BBoxes\n",
    "#tiles_list"
   ]
  },
  {
   "cell_type": "code",
   "execution_count": 59,
   "metadata": {},
   "outputs": [
    {
     "data": {
      "text/plain": [
       "(140.26, -28.25, 142.99, -30.03)"
      ]
     },
     "execution_count": 59,
     "metadata": {},
     "output_type": "execute_result"
    }
   ],
   "source": [
    "# Give two tiles as [top left corner, bottom right corner]\n",
    "#tiles = ['9_-36','10_-37'] # https://gsky.nci.org.au/ows/dea - Prod GSKY server\n",
    "tiles = ['8_-32','9_-33']  # http://130.56.242.15/ows/ipynb   - Dev GSKY server\n",
    "bbox = [tiles_list[tiles[0]],tiles_list[tiles[1]]]\n",
    "\n",
    "# If you know another BBox containing data (Tip: use TerriaMap to find out) then type it in below.\n",
    "#bbox = ['130.00,-27.00,131.00,-29.00']\n",
    "\n",
    "x = float(bbox[0][0:6])\n",
    "y = float(bbox[0][7:13])\n",
    "X = float(bbox[1][14:20])\n",
    "Y = float(bbox[1][21:27])\n",
    "\n",
    "# The longitude dimension is adjusted to fit the plot size of 337*220 pixels\n",
    "X = float('%.2f'%(x + ((abs(Y - y) / 220) * 337)))\n",
    "bbox = (x,y,X,Y)\n",
    "bbox"
   ]
  },
  {
   "cell_type": "code",
   "execution_count": 60,
   "metadata": {},
   "outputs": [
    {
     "name": "stdout",
     "output_type": "stream",
     "text": [
      "http://130.56.242.15/ows/ipynb?version=1.0.0&request=GetCoverage&service=WCS&Coverage=sentinel2_nbart_daily&BBox=140.26%2C-28.25%2C142.99%2C-30.03&time=2019-11-09T00%3A00%3A00.000Z&crs=EPSG%3A4326&format=NetCDF&width=256&height=256&Styles=tfc\n"
     ]
    }
   ],
   "source": [
    "# Construct the URL for a WCS call and send it to the GSKY server.\n",
    "# Style can be False Color (fc) or True Color (tc)\n",
    "# On the dev GSKY server a style of 'tfc' will give five bands (R,G,B,nir,swir) \n",
    "# This NB uses only NetCDF and EPSG:4326. Hence, do not change these.\n",
    "# If any error, the displayed URL can be opened in a browser to see the actual error message.\n",
    "output = wcs.getCoverage(identifier=layer, Styles='tfc',\n",
    "                         time=[wcs[layer].timepositions[t]],\n",
    "                         bbox=bbox,format='NetCDF',\n",
    "                         crs='EPSG:4326', width=256, height=256)\n",
    "print(output.geturl())"
   ]
  },
  {
   "cell_type": "code",
   "execution_count": 61,
   "metadata": {},
   "outputs": [],
   "source": [
    "# Get the output data from GSKY and write it in a *.nc file\n",
    "# A random number is inserted in the filename to prevent the browser caching the file content.\n",
    "rand = str(randrange(100000))\n",
    "ncfile = './output/gsky_wcs_' + rand + '.nc'\n",
    "with open(ncfile, 'wb') as f:\n",
    "    f.write(output.read())"
   ]
  },
  {
   "cell_type": "markdown",
   "metadata": {},
   "source": [
    "# Sentinel 2 bands\n",
    "\n",
    "Sentinel 2 satellites have 13 spectral channels. \n",
    "\n",
    "\n",
    "<img src='images/sentinel2_bands.png' width=\"600\">\n",
    "\n",
    "\n",
    "Though the data from datacube returns all the above bands, the GSKY server can return only those specified in '*config.json*' for a namespace (e.g. 'dea'). The production server is set to send only the \"*red,green,blue*\" as true colors and \"*nir,swir*\" as false colors. \n",
    "\n",
    "On this page we are plotting the false color bands as well. For this, the development server has a special '*ipynb/config.json*' that has a '*style=tfc*'. Choose this style to get all following bands. The band numbers returend by GSKY are as follows, and differ from the table above.\n",
    "\n",
    "    1. nbart_red\n",
    "    2. nbart_green\n",
    "    3. nbart_blue\n",
    "    4. nbart_nir_1\n",
    "    5. nbart_nir_2\n",
    "    6. nbart_swir_2\n",
    "    7. nbart_swir_3\n",
    "    8. nbart_coastal_aerosol\n",
    "    9. nbart_red_edge_1\n",
    "    10. nbart_red_edge_2\n",
    "    11. nbart_red_edge_3\n",
    "\n",
    "These bands cover the visible, near-infrared and short-wave infrared wave lengths.\n",
    "\n",
    "<img src='images/Sentinel2_Spectral_Bands.jpg' width=\"600\">\n"
   ]
  },
  {
   "cell_type": "markdown",
   "metadata": {},
   "source": [
    "# Read the data from the saved file\n",
    "\n",
    "The data retrieved from GSKY is stored as NetCDF. Read the file and convert the data into Xarray dataset so that it can be plotted and manipulated. The temporary NetCDF file is then deleted."
   ]
  },
  {
   "cell_type": "code",
   "execution_count": 62,
   "metadata": {},
   "outputs": [],
   "source": [
    "# Read the NetCDF file and convert it into an xarray dataset\n",
    "sentinel2_ds = xr.open_dataset(ncfile)\n",
    "\n",
    "# Delete the created NetCDF file\n",
    "try:\n",
    "    os.remove(ncfile)\n",
    "except OSError:\n",
    "    pass"
   ]
  },
  {
   "cell_type": "markdown",
   "metadata": {},
   "source": [
    "# View the raw data\n",
    "\n",
    "View the data in Xarray format."
   ]
  },
  {
   "cell_type": "code",
   "execution_count": 63,
   "metadata": {},
   "outputs": [
    {
     "data": {
      "text/plain": [
       "<xarray.Dataset>\n",
       "Dimensions:  (lat: 256, lon: 256)\n",
       "Coordinates:\n",
       "  * lat      (lat) float64 -28.25 -28.26 -28.27 -28.27 ... -30.01 -30.02 -30.03\n",
       "  * lon      (lon) float64 140.3 140.3 140.3 140.3 ... 143.0 143.0 143.0 143.0\n",
       "Data variables:\n",
       "    Band1    (lat, lon) float32 ...\n",
       "    Band2    (lat, lon) float32 ...\n",
       "    Band3    (lat, lon) float32 ...\n",
       "    Band4    (lat, lon) float32 ...\n",
       "    Band5    (lat, lon) float32 ...\n",
       "    Band6    (lat, lon) float32 ...\n",
       "    Band7    (lat, lon) float32 ...\n",
       "    Band8    (lat, lon) float32 ...\n",
       "    Band9    (lat, lon) float32 ...\n",
       "    Band10   (lat, lon) float32 ...\n",
       "    Band11   (lat, lon) float32 ...\n",
       "    crs      |S1 ...\n",
       "Attributes:\n",
       "    Conventions:  CF-1.5\n",
       "    GDAL:         GDAL 2.3.1, released 2018/06/22\n",
       "    history:      Tue Feb 11 14:26:20 2020: GDAL Create( /tmp/raster_11687501..."
      ]
     },
     "execution_count": 63,
     "metadata": {},
     "output_type": "execute_result"
    }
   ],
   "source": [
    "# Uncomment below to see the raw data\n",
    "sentinel2_ds"
   ]
  },
  {
   "cell_type": "markdown",
   "metadata": {},
   "source": [
    "# Plot the data\n",
    "\n",
    "The data returned by GSKY server (Production version) contains only three bands. Depending on the chosen style ('tc' or 'fc') it will be the visible (red, green, blue) or invisible (nir, swir) spectrum. To get all these bands it is necessary to set the GSKY config (config.json) to include all available bands in the NetCDF output.\n",
    "\n",
    "The various spectral bands are plotted below.\n",
    "\n",
    "## Plot as a true colour image\n",
    "\n",
    "True colour images approximate what the human eye sees when looking at a landscape. Note that the function used for this true colour plot enhances the contrast between the bands, resulting in a colour-enhanced image."
   ]
  },
  {
   "cell_type": "code",
   "execution_count": 64,
   "metadata": {
    "scrolled": true
   },
   "outputs": [
    {
     "name": "stderr",
     "output_type": "stream",
     "text": [
      "C:\\Users\\avs29\\.conda\\envs\\gsky\\lib\\site-packages\\numpy\\lib\\function_base.py:3405: RuntimeWarning: All-NaN slice encountered\n",
      "  r = func(a, **kwargs)\n"
     ]
    },
    {
     "data": {
      "text/plain": [
       "<matplotlib.image.AxesImage at 0x24c694ea808>"
      ]
     },
     "execution_count": 64,
     "metadata": {},
     "output_type": "execute_result"
    },
    {
     "data": {
      "image/png": "[encoded data removed]",
      "text/plain": [
       "<Figure size 432x288 with 1 Axes>"
      ]
     },
     "metadata": {
      "needs_background": "light"
     },
     "output_type": "display_data"
    }
   ],
   "source": [
    "# Plot the first three bands available in the dataset on Prod and Dev servers.\n",
    "# red, green, blue\n",
    "sentinel2_ds[['Band1', 'Band2', 'Band3']].to_array().plot.imshow(robust=True) "
   ]
  },
  {
   "cell_type": "markdown",
   "metadata": {},
   "source": [
    "## Plot as a false colour image\n",
    "\n",
    "This plot uses the SWIR, NIR and green bands to accentuate the presence of water in the landscape."
   ]
  },
  {
   "cell_type": "code",
   "execution_count": 65,
   "metadata": {},
   "outputs": [
    {
     "name": "stderr",
     "output_type": "stream",
     "text": [
      "C:\\Users\\avs29\\.conda\\envs\\gsky\\lib\\site-packages\\numpy\\lib\\function_base.py:3405: RuntimeWarning: All-NaN slice encountered\n",
      "  r = func(a, **kwargs)\n"
     ]
    },
    {
     "data": {
      "text/plain": [
       "<matplotlib.image.AxesImage at 0x24c69572548>"
      ]
     },
     "execution_count": 65,
     "metadata": {},
     "output_type": "execute_result"
    },
    {
     "data": {
      "image/png": "[encoded data removed]",
      "text/plain": [
       "<Figure size 432x288 with 1 Axes>"
      ]
     },
     "metadata": {
      "needs_background": "light"
     },
     "output_type": "display_data"
    }
   ],
   "source": [
    "# Additional bands on http://130.56.242.15/ows/ipynb   - Dev GSKY server\n",
    "# nbart_swir_2, nbart_nir_1, nbart_green \n",
    "sentinel2_ds[['Band6', 'Band4', 'Band2']].to_array().plot.imshow(robust=True) "
   ]
  },
  {
   "cell_type": "code",
   "execution_count": 66,
   "metadata": {
    "scrolled": true
   },
   "outputs": [
    {
     "name": "stderr",
     "output_type": "stream",
     "text": [
      "C:\\Users\\avs29\\.conda\\envs\\gsky\\lib\\site-packages\\numpy\\lib\\function_base.py:3405: RuntimeWarning: All-NaN slice encountered\n",
      "  r = func(a, **kwargs)\n"
     ]
    },
    {
     "data": {
      "text/plain": [
       "<matplotlib.image.AxesImage at 0x24c6a6c3e08>"
      ]
     },
     "execution_count": 66,
     "metadata": {},
     "output_type": "execute_result"
    },
    {
     "data": {
      "image/png": "[encoded data removed]",
      "text/plain": [
       "<Figure size 432x288 with 1 Axes>"
      ]
     },
     "metadata": {
      "needs_background": "light"
     },
     "output_type": "display_data"
    }
   ],
   "source": [
    "# Additional bands on http://130.56.242.15/ows/ipynb   - Dev GSKY server\n",
    "# nbart_red_edge_1, nbart_red_edge_2, nbart_red_edge_3\n",
    "sentinel2_ds[['Band9', 'Band10', 'Band11']].to_array().plot.imshow(robust=True) "
   ]
  },
  {
   "cell_type": "code",
   "execution_count": 67,
   "metadata": {
    "scrolled": true
   },
   "outputs": [
    {
     "name": "stderr",
     "output_type": "stream",
     "text": [
      "C:\\Users\\avs29\\.conda\\envs\\gsky\\lib\\site-packages\\numpy\\lib\\function_base.py:3405: RuntimeWarning: All-NaN slice encountered\n",
      "  r = func(a, **kwargs)\n"
     ]
    },
    {
     "data": {
      "text/plain": [
       "<matplotlib.image.AxesImage at 0x24c6a736148>"
      ]
     },
     "execution_count": 67,
     "metadata": {},
     "output_type": "execute_result"
    },
    {
     "data": {
      "image/png": "[encoded data removed]",
      "text/plain": [
       "<Figure size 432x288 with 1 Axes>"
      ]
     },
     "metadata": {
      "needs_background": "light"
     },
     "output_type": "display_data"
    }
   ],
   "source": [
    "# Additional bands on http://130.56.242.15/ows/ipynb   - Dev GSKY server\n",
    "# nbart_red_edge_2, nbart_red_edge_3, nbart_red\n",
    "sentinel2_ds[['Band10', 'Band11', 'Band1']].to_array().plot.imshow(robust=True) "
   ]
  },
  {
   "cell_type": "markdown",
   "metadata": {},
   "source": [
    "#### Acknowledgements\n",
    "\n",
    "This notebook page is derived from this [DEA notebook](http://geoscienceaustralia.github.io/digitalearthau/notebooks/02_DEA_datasets/Introduction_to_Sentinel2.html) and extensively changed to use GSKY server. Some of the text used here are directly copied from the DEA page."
   ]
  }
 ],
 "metadata": {
  "kernelspec": {
   "display_name": "Python 3",
   "language": "python",
   "name": "python3"
  },
  "language_info": {
   "codemirror_mode": {
    "name": "ipython",
    "version": 3
   },
   "file_extension": ".py",
   "mimetype": "text/x-python",
   "name": "python",
   "nbconvert_exporter": "python",
   "pygments_lexer": "ipython3",
   "version": "3.7.4"
  }
 },
 "nbformat": 4,
 "nbformat_minor": 2
}
